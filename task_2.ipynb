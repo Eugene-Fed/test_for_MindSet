{
 "cells": [
  {
   "cell_type": "code",
   "execution_count": 117,
   "id": "682f9f0f",
   "metadata": {},
   "outputs": [],
   "source": [
    "import requests\n",
    "import base64\n",
    "import os\n",
    "import json"
   ]
  },
  {
   "cell_type": "code",
   "execution_count": 83,
   "id": "6b4feb4e",
   "metadata": {},
   "outputs": [],
   "source": [
    "OAUTH_TOKEN = 'y0_AgAAAAAMexrgAATuwQAAAADVqdt6kU7XLevzTjaytB5Gybh3qHB8uBI'     # OAuth токен аккаунта Яндекс\n",
    "FOLDER_ID = 'b1gjjshh8f4c2hsghon5'       # Идентификатор рабочего каталога Я.Cloud\n",
    "WORK_DIR = 'pass_photos'\n",
    "GET_AIM_TOKEN_URL = 'https://iam.api.cloud.yandex.net/iam/v1/tokens'\n",
    "GET_IMAGE_RECOGNITION_URL = 'https://vision.api.cloud.yandex.net/vision/v1/batchAnalyze'"
   ]
  },
  {
   "cell_type": "markdown",
   "id": "5d7af114",
   "metadata": {},
   "source": [
    "### Обмениваем OAuth-токен аккаунта Яндекс на IAM-токен"
   ]
  },
  {
   "cell_type": "code",
   "execution_count": 85,
   "id": "b232a19b",
   "metadata": {},
   "outputs": [
    {
     "name": "stdout",
     "output_type": "stream",
     "text": [
      "<Response [200]>\n"
     ]
    }
   ],
   "source": [
    "data = {\n",
    "    'yandexPassportOauthToken': OAUTH_TOKEN\n",
    "}\n",
    " \n",
    "response = requests.post(url=GET_AIM_TOKEN_URL, json=data)\n",
    "print(response)\n",
    "iam_token = response.json()['iamToken']"
   ]
  },
  {
   "cell_type": "markdown",
   "id": "f70ce14c",
   "metadata": {},
   "source": [
    "### Вынес некоторый код в функции для удобства, чтобы потом в цикле пройтись по всем изображениям"
   ]
  },
  {
   "cell_type": "code",
   "execution_count": 87,
   "id": "5442f4b8",
   "metadata": {},
   "outputs": [],
   "source": [
    "# Функция на основе инструкции Яндекс.Cloud\n",
    "def encode_file(file_name: str):             # Не знаю как правильно обозначить тип возвращаемого значения\n",
    "    with open (file_name, 'rb') as f:        # Яндекс забыл про параметр 'rb', без которого невозможно прочитать изображение\n",
    "        file_content = f.read()\n",
    "        return base64.b64encode(file_content)    "
   ]
  },
  {
   "cell_type": "code",
   "execution_count": 88,
   "id": "b4368b80",
   "metadata": {},
   "outputs": [],
   "source": [
    "# Функция для получения списка файлов из каталога с фотографиями (как в Task 1)\n",
    "def get_files(directory: str) -> list:\n",
    "    names = []\n",
    "    for filename in os.listdir(directory):\n",
    "        if filename.endswith(\".jpeg\") or filename.endswith(\".jpg\") or filename.endswith(\".png\"):\n",
    "            names.append(os.path.join(directory, filename))\n",
    "\n",
    "    return names"
   ]
  },
  {
   "cell_type": "code",
   "execution_count": 106,
   "id": "9023f931",
   "metadata": {},
   "outputs": [
    {
     "name": "stdout",
     "output_type": "stream",
     "text": [
      "<Response [200]>\n",
      "{'results': [{'results': [{'textDetection': {'pages': [{'blocks': [{'boundingBox': {'vertices': [{}, {}, {}, {}]}, 'lines': [{'boundingBox': {'vertices': [{}, {}, {}, {}]}, 'words': [{'boundingBox': {'vertices': [{}, {}, {}, {}]}, 'languages': [{'languageCode': 'en', 'confidence': 0.8926920295}], 'text': 'rus', 'confidence': 0.8926920295}], 'confidence': 0.8926920295}]}, {'boundingBox': {'vertices': [{}, {}, {}, {}]}, 'lines': [{'boundingBox': {'vertices': [{}, {}, {}, {}]}, 'words': [{'boundingBox': {'vertices': [{}, {}, {}, {}]}, 'languages': [{'languageCode': 'en', 'confidence': 0.8926920295}], 'text': '-', 'confidence': 0.8926920295, 'entityIndex': '1'}], 'confidence': 0.8926920295}]}, {'boundingBox': {'vertices': [{}, {}, {}, {}]}, 'lines': [{'boundingBox': {'vertices': [{}, {}, {}, {}]}, 'words': [{'boundingBox': {'vertices': [{}, {}, {}, {}]}, 'languages': [{'languageCode': 'en', 'confidence': 0.7420556545}], 'text': 'муж', 'confidence': 0.7420556545, 'entityIndex': '2'}], 'confidence': 0.7420556545}]}, {'boundingBox': {'vertices': [{'x': '74'}, {'x': '74', 'y': '159'}, {'x': '335', 'y': '159'}, {'x': '335'}]}, 'lines': [{'boundingBox': {'vertices': [{'x': '74'}, {'x': '74', 'y': '159'}, {'x': '335', 'y': '159'}, {'x': '335'}]}, 'words': [{'boundingBox': {'vertices': [{'x': '74'}, {'x': '74', 'y': '159'}, {'x': '335', 'y': '159'}, {'x': '335'}]}, 'languages': [{'languageCode': 'en', 'confidence': 0.8856475949}], 'text': '772-112', 'confidence': 0.8856475949, 'entityIndex': '3'}], 'confidence': 0.8856475949}]}, {'boundingBox': {'vertices': [{'x': '3'}, {'x': '3', 'y': '559'}, {'x': '341', 'y': '559'}, {'x': '341'}]}, 'lines': [{'boundingBox': {'vertices': [{'x': '3'}, {'x': '3', 'y': '559'}, {'x': '341', 'y': '559'}, {'x': '341'}]}, 'words': [{'boundingBox': {'vertices': [{'x': '3'}, {'x': '3', 'y': '559'}, {'x': '341', 'y': '559'}, {'x': '341'}]}, 'languages': [{'languageCode': 'en', 'confidence': 0.6045333743}], 'text': 'паспортно-визовым отделением овд пресненского района увд цао г. москвы', 'confidence': 0.6045333743, 'entityIndex': '4'}], 'confidence': 0.6045333743}]}, {'boundingBox': {'vertices': [{'x': '229', 'y': '329'}, {'x': '229', 'y': '362'}, {'x': '322', 'y': '362'}, {'x': '322', 'y': '329'}]}, 'lines': [{'boundingBox': {'vertices': [{'x': '229', 'y': '329'}, {'x': '229', 'y': '362'}, {'x': '322', 'y': '362'}, {'x': '322', 'y': '329'}]}, 'words': [{'boundingBox': {'vertices': [{'x': '229', 'y': '329'}, {'x': '229', 'y': '362'}, {'x': '322', 'y': '362'}, {'x': '322', 'y': '329'}]}, 'languages': [{'languageCode': 'en', 'confidence': 0.8928572536}], 'text': 'трамп', 'confidence': 0.8928572536, 'entityIndex': '5'}], 'confidence': 0.8928572536}]}, {'boundingBox': {'vertices': [{'x': '218', 'y': '366'}, {'x': '218', 'y': '401'}, {'x': '328', 'y': '401'}, {'x': '328', 'y': '366'}]}, 'lines': [{'boundingBox': {'vertices': [{'x': '218', 'y': '366'}, {'x': '218', 'y': '401'}, {'x': '328', 'y': '401'}, {'x': '328', 'y': '366'}]}, 'words': [{'boundingBox': {'vertices': [{'x': '218', 'y': '366'}, {'x': '218', 'y': '401'}, {'x': '328', 'y': '401'}, {'x': '328', 'y': '366'}]}, 'languages': [{'languageCode': 'en', 'confidence': 0.8662326932}], 'text': 'дональд', 'confidence': 0.8662326932, 'entityIndex': '6'}], 'confidence': 0.8662326932}]}, {'boundingBox': {'vertices': [{'x': '240', 'y': '398'}, {'x': '240', 'y': '420'}, {'x': '315', 'y': '420'}, {'x': '315', 'y': '398'}]}, 'lines': [{'boundingBox': {'vertices': [{'x': '240', 'y': '398'}, {'x': '240', 'y': '420'}, {'x': '315', 'y': '420'}, {'x': '315', 'y': '398'}]}, 'words': [{'boundingBox': {'vertices': [{'x': '240', 'y': '398'}, {'x': '240', 'y': '420'}, {'x': '315', 'y': '420'}, {'x': '315', 'y': '398'}]}, 'languages': [{'languageCode': 'en', 'confidence': 0.9189860821}], 'text': 'джон', 'confidence': 0.9189860821, 'entityIndex': '7'}], 'confidence': 0.9189860821}]}, {'boundingBox': {'vertices': [{'x': '206', 'y': '416'}, {'x': '206', 'y': '449'}, {'x': '369', 'y': '449'}, {'x': '369', 'y': '416'}]}, 'lines': [{'boundingBox': {'vertices': [{'x': '206', 'y': '416'}, {'x': '206', 'y': '449'}, {'x': '369', 'y': '449'}, {'x': '369', 'y': '416'}]}, 'words': [{'boundingBox': {'vertices': [{'x': '206', 'y': '416'}, {'x': '206', 'y': '449'}, {'x': '369', 'y': '449'}, {'x': '369', 'y': '416'}]}, 'languages': [{'languageCode': 'en', 'confidence': 0.8311029673}], 'text': '14.06.1946', 'confidence': 0.8311029673, 'entityIndex': '8'}], 'confidence': 0.8311029673}]}, {'boundingBox': {'vertices': [{'x': '154', 'y': '433'}, {'x': '154', 'y': '517'}, {'x': '363', 'y': '517'}, {'x': '363', 'y': '433'}]}, 'lines': [{'boundingBox': {'vertices': [{'x': '154', 'y': '433'}, {'x': '154', 'y': '517'}, {'x': '363', 'y': '517'}, {'x': '363', 'y': '433'}]}, 'words': [{'boundingBox': {'vertices': [{'x': '154', 'y': '433'}, {'x': '154', 'y': '517'}, {'x': '363', 'y': '517'}, {'x': '363', 'y': '433'}]}, 'languages': [{'languageCode': 'en', 'confidence': 0.6203268766}], 'text': 'гор. куинс штат нью-йорк сша', 'confidence': 0.6203268766, 'entityIndex': '9'}], 'confidence': 0.6203268766}]}, {'boundingBox': {'vertices': [{'x': '358', 'y': '18'}, {'x': '358', 'y': '500'}, {'x': '423', 'y': '500'}, {'x': '423', 'y': '18'}]}, 'lines': [{'boundingBox': {'vertices': [{'x': '358', 'y': '18'}, {'x': '358', 'y': '500'}, {'x': '423', 'y': '500'}, {'x': '423', 'y': '18'}]}, 'words': [{'boundingBox': {'vertices': [{'x': '358', 'y': '18'}, {'x': '358', 'y': '500'}, {'x': '423', 'y': '500'}, {'x': '423', 'y': '18'}]}, 'languages': [{'languageCode': 'en', 'confidence': 0.8763247132}], 'text': '4507123456', 'confidence': 0.8763247132, 'entityIndex': '10'}], 'confidence': 0.8763247132}]}], 'entities': [{'name': 'citizenship', 'text': 'rus'}, {'name': 'expiration_date', 'text': '-'}, {'name': 'gender', 'text': 'муж'}, {'name': 'subdivision', 'text': '772-112'}, {'name': 'issued_by', 'text': 'паспортно-визовым отделением овд пресненского района увд цао г. москвы'}, {'name': 'surname', 'text': 'трамп'}, {'name': 'name', 'text': 'дональд'}, {'name': 'middle_name', 'text': 'джон'}, {'name': 'birth_date', 'text': '14.06.1946'}, {'name': 'birth_place', 'text': 'гор. куинс штат нью-йорк сша'}, {'name': 'number', 'text': '4507123456'}], 'width': '447', 'height': '624'}]}}]}]}\n"
     ]
    }
   ],
   "source": [
    "files = get_files(WORK_DIR)\n",
    "headers = {'Authorization': f'Bearer {iam_token}', 'Content-Type': 'application/json'}\n",
    "\n",
    "# print(encode_file(files[4]))\n",
    "\n",
    "# проходим по всем изображениям, получаем для каждого представление в byte64 и отправляем запрос\n",
    "# for file in files:\n",
    "\n",
    "\n",
    "\n",
    "body_json = {\n",
    "    \"folderId\": FOLDER_ID,\n",
    "    \"analyze_specs\": [{\n",
    "        \"content\": str(encode_file(files[0]))[2:-1],  # про то, что byte64 невозможно сериализовать в JSON они тоже забыли\n",
    "        \"features\": [{\n",
    "            \"type\": \"TEXT_DETECTION\",\n",
    "            \"text_detection_config\": {\n",
    "                \"language_codes\": [\"ru\"],\n",
    "                \"model\": \"passport\"\n",
    "            }\n",
    "        }]\n",
    "    }]\n",
    "}\n",
    "\n",
    "response = requests.post(url=GET_IMAGE_RECOGNITION_URL, headers=headers, json=body_json)\n",
    "print(response)\n",
    "print(response.json())"
   ]
  },
  {
   "cell_type": "code",
   "execution_count": 126,
   "id": "34bbc0c9",
   "metadata": {},
   "outputs": [
    {
     "name": "stdout",
     "output_type": "stream",
     "text": [
      "[{'boundingBox': {'vertices': [{}, {}, {}, {}]}, 'lines': [{'boundingBox': {'vertices': [{}, {}, {}, {}]}, 'words': [{'boundingBox': {'vertices': [{}, {}, {}, {}]}, 'languages': [{'languageCode': 'en', 'confidence': 0.8926920295}], 'text': 'rus', 'confidence': 0.8926920295}], 'confidence': 0.8926920295}]}, {'boundingBox': {'vertices': [{}, {}, {}, {}]}, 'lines': [{'boundingBox': {'vertices': [{}, {}, {}, {}]}, 'words': [{'boundingBox': {'vertices': [{}, {}, {}, {}]}, 'languages': [{'languageCode': 'en', 'confidence': 0.8926920295}], 'text': '-', 'confidence': 0.8926920295, 'entityIndex': '1'}], 'confidence': 0.8926920295}]}, {'boundingBox': {'vertices': [{}, {}, {}, {}]}, 'lines': [{'boundingBox': {'vertices': [{}, {}, {}, {}]}, 'words': [{'boundingBox': {'vertices': [{}, {}, {}, {}]}, 'languages': [{'languageCode': 'en', 'confidence': 0.7420556545}], 'text': 'муж', 'confidence': 0.7420556545, 'entityIndex': '2'}], 'confidence': 0.7420556545}]}, {'boundingBox': {'vertices': [{'x': '74'}, {'x': '74', 'y': '159'}, {'x': '335', 'y': '159'}, {'x': '335'}]}, 'lines': [{'boundingBox': {'vertices': [{'x': '74'}, {'x': '74', 'y': '159'}, {'x': '335', 'y': '159'}, {'x': '335'}]}, 'words': [{'boundingBox': {'vertices': [{'x': '74'}, {'x': '74', 'y': '159'}, {'x': '335', 'y': '159'}, {'x': '335'}]}, 'languages': [{'languageCode': 'en', 'confidence': 0.8856475949}], 'text': '772-112', 'confidence': 0.8856475949, 'entityIndex': '3'}], 'confidence': 0.8856475949}]}, {'boundingBox': {'vertices': [{'x': '3'}, {'x': '3', 'y': '559'}, {'x': '341', 'y': '559'}, {'x': '341'}]}, 'lines': [{'boundingBox': {'vertices': [{'x': '3'}, {'x': '3', 'y': '559'}, {'x': '341', 'y': '559'}, {'x': '341'}]}, 'words': [{'boundingBox': {'vertices': [{'x': '3'}, {'x': '3', 'y': '559'}, {'x': '341', 'y': '559'}, {'x': '341'}]}, 'languages': [{'languageCode': 'en', 'confidence': 0.6045333743}], 'text': 'паспортно-визовым отделением овд пресненского района увд цао г. москвы', 'confidence': 0.6045333743, 'entityIndex': '4'}], 'confidence': 0.6045333743}]}, {'boundingBox': {'vertices': [{'x': '229', 'y': '329'}, {'x': '229', 'y': '362'}, {'x': '322', 'y': '362'}, {'x': '322', 'y': '329'}]}, 'lines': [{'boundingBox': {'vertices': [{'x': '229', 'y': '329'}, {'x': '229', 'y': '362'}, {'x': '322', 'y': '362'}, {'x': '322', 'y': '329'}]}, 'words': [{'boundingBox': {'vertices': [{'x': '229', 'y': '329'}, {'x': '229', 'y': '362'}, {'x': '322', 'y': '362'}, {'x': '322', 'y': '329'}]}, 'languages': [{'languageCode': 'en', 'confidence': 0.8928572536}], 'text': 'трамп', 'confidence': 0.8928572536, 'entityIndex': '5'}], 'confidence': 0.8928572536}]}, {'boundingBox': {'vertices': [{'x': '218', 'y': '366'}, {'x': '218', 'y': '401'}, {'x': '328', 'y': '401'}, {'x': '328', 'y': '366'}]}, 'lines': [{'boundingBox': {'vertices': [{'x': '218', 'y': '366'}, {'x': '218', 'y': '401'}, {'x': '328', 'y': '401'}, {'x': '328', 'y': '366'}]}, 'words': [{'boundingBox': {'vertices': [{'x': '218', 'y': '366'}, {'x': '218', 'y': '401'}, {'x': '328', 'y': '401'}, {'x': '328', 'y': '366'}]}, 'languages': [{'languageCode': 'en', 'confidence': 0.8662326932}], 'text': 'дональд', 'confidence': 0.8662326932, 'entityIndex': '6'}], 'confidence': 0.8662326932}]}, {'boundingBox': {'vertices': [{'x': '240', 'y': '398'}, {'x': '240', 'y': '420'}, {'x': '315', 'y': '420'}, {'x': '315', 'y': '398'}]}, 'lines': [{'boundingBox': {'vertices': [{'x': '240', 'y': '398'}, {'x': '240', 'y': '420'}, {'x': '315', 'y': '420'}, {'x': '315', 'y': '398'}]}, 'words': [{'boundingBox': {'vertices': [{'x': '240', 'y': '398'}, {'x': '240', 'y': '420'}, {'x': '315', 'y': '420'}, {'x': '315', 'y': '398'}]}, 'languages': [{'languageCode': 'en', 'confidence': 0.9189860821}], 'text': 'джон', 'confidence': 0.9189860821, 'entityIndex': '7'}], 'confidence': 0.9189860821}]}, {'boundingBox': {'vertices': [{'x': '206', 'y': '416'}, {'x': '206', 'y': '449'}, {'x': '369', 'y': '449'}, {'x': '369', 'y': '416'}]}, 'lines': [{'boundingBox': {'vertices': [{'x': '206', 'y': '416'}, {'x': '206', 'y': '449'}, {'x': '369', 'y': '449'}, {'x': '369', 'y': '416'}]}, 'words': [{'boundingBox': {'vertices': [{'x': '206', 'y': '416'}, {'x': '206', 'y': '449'}, {'x': '369', 'y': '449'}, {'x': '369', 'y': '416'}]}, 'languages': [{'languageCode': 'en', 'confidence': 0.8311029673}], 'text': '14.06.1946', 'confidence': 0.8311029673, 'entityIndex': '8'}], 'confidence': 0.8311029673}]}, {'boundingBox': {'vertices': [{'x': '154', 'y': '433'}, {'x': '154', 'y': '517'}, {'x': '363', 'y': '517'}, {'x': '363', 'y': '433'}]}, 'lines': [{'boundingBox': {'vertices': [{'x': '154', 'y': '433'}, {'x': '154', 'y': '517'}, {'x': '363', 'y': '517'}, {'x': '363', 'y': '433'}]}, 'words': [{'boundingBox': {'vertices': [{'x': '154', 'y': '433'}, {'x': '154', 'y': '517'}, {'x': '363', 'y': '517'}, {'x': '363', 'y': '433'}]}, 'languages': [{'languageCode': 'en', 'confidence': 0.6203268766}], 'text': 'гор. куинс штат нью-йорк сша', 'confidence': 0.6203268766, 'entityIndex': '9'}], 'confidence': 0.6203268766}]}, {'boundingBox': {'vertices': [{'x': '358', 'y': '18'}, {'x': '358', 'y': '500'}, {'x': '423', 'y': '500'}, {'x': '423', 'y': '18'}]}, 'lines': [{'boundingBox': {'vertices': [{'x': '358', 'y': '18'}, {'x': '358', 'y': '500'}, {'x': '423', 'y': '500'}, {'x': '423', 'y': '18'}]}, 'words': [{'boundingBox': {'vertices': [{'x': '358', 'y': '18'}, {'x': '358', 'y': '500'}, {'x': '423', 'y': '500'}, {'x': '423', 'y': '18'}]}, 'languages': [{'languageCode': 'en', 'confidence': 0.8763247132}], 'text': '4507123456', 'confidence': 0.8763247132, 'entityIndex': '10'}], 'confidence': 0.8763247132}]}]\n"
     ]
    }
   ],
   "source": [
    "print(response.json()['results'][0]['results'][0]['textDetection']['pages'][0]['blocks'])\n",
    "with open('task_2.json', 'w') as f:\n",
    "    # response.json()['results'] = base64.encodebytes(content.encode('cp1251')).decode('ascii')\n",
    "    json.dump(response.json(), f, indent=4, ensure_ascii=False)"
   ]
  },
  {
   "cell_type": "code",
   "execution_count": 148,
   "id": "980c7a1e",
   "metadata": {},
   "outputs": [
    {
     "name": "stdout",
     "output_type": "stream",
     "text": [
      "[{'name': 'citizenship', 'text': 'rus'}, {'name': 'expiration_date', 'text': '-'}, {'name': 'gender', 'text': 'муж'}, {'name': 'subdivision', 'text': '772-112'}, {'name': 'issued_by', 'text': 'паспортно-визовым отделением овд пресненского района увд цао г. москвы'}, {'name': 'surname', 'text': 'трамп'}, {'name': 'name', 'text': 'дональд'}, {'name': 'middle_name', 'text': 'джон'}, {'name': 'birth_date', 'text': '14.06.1946'}, {'name': 'birth_place', 'text': 'гор. куинс штат нью-йорк сша'}, {'name': 'number', 'text': '4507123456'}]\n",
      "Кем выдан: паспортно-визовым отделением овд пресненского района увд цао г. москвы\n",
      "Дата выдачи: -\n",
      "Код подразделения: 772-112\n",
      "\n",
      "Номер паспорта: 4507123456\n",
      "Фамилия: трамп\n",
      "Имя: дональд\n",
      "Отчество: джон\n",
      "Пол: муж\n",
      "\n",
      "Дата рождения: 14.06.1946\n",
      "Место Рождения: гор. куинс штат нью-йорк сша\n",
      "\n"
     ]
    }
   ],
   "source": [
    "pass_data = response.json()['results'][0]['results'][0]['textDetection']['pages'][0]['entities']\n",
    "print(pass_data)\n",
    "\n",
    "issued_by = pass_data[4]['text']    # Кем выдан\n",
    "expiration_date = pass_data[1]['text']    # Дата выдачи\n",
    "subdivision = pass_data[3]['text']         # Код подразделения\n",
    "surname = pass_data[5]['text'] # Фамилия\n",
    "name = pass_data[6]['text'] # Имя\n",
    "middle_name = pass_data[7]['text'] # Отчество\n",
    "gender = pass_data[2]['text'] # Пол\n",
    "birth_date = pass_data[8]['text'] # Дата рождения\n",
    "birth_place = pass_data[9]['text']# Место рождения\n",
    "number = pass_data[10]['text'] # Номер паспорта\n",
    "\n",
    "result_text = f'''Кем выдан: {issued_by}\\nДата выдачи: {expiration_date}\\nКод подразделения: {subdivision}\\n\n",
    "Номер паспорта: {number}\\nФамилия: {surname}\\nИмя: {name}\\nОтчество: {middle_name}\\nПол: {gender}\\n\n",
    "Дата рождения: {birth_date}\\nМесто Рождения: {birth_place}\\n'''\n",
    "print(result_text)"
   ]
  }
 ],
 "metadata": {
  "kernelspec": {
   "display_name": "Python 3 (ipykernel)",
   "language": "python",
   "name": "python3"
  },
  "language_info": {
   "codemirror_mode": {
    "name": "ipython",
    "version": 3
   },
   "file_extension": ".py",
   "mimetype": "text/x-python",
   "name": "python",
   "nbconvert_exporter": "python",
   "pygments_lexer": "ipython3",
   "version": "3.10.4"
  }
 },
 "nbformat": 4,
 "nbformat_minor": 5
}
