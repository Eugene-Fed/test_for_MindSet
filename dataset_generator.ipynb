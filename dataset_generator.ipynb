{
 "cells": [
  {
   "cell_type": "code",
   "execution_count": 3,
   "id": "1a7b56e4",
   "metadata": {},
   "outputs": [],
   "source": [
    "import pandas as pd\n",
    "import numpy as np\n",
    "import os\n",
    "import cv2\n",
    "#import tensorflow as tf\n",
    "import glob\n",
    "import h5py\n",
    "import idx2numpy as idx\n",
    "import warnings\n",
    "import re\n",
    "from PIL import Image\n",
    "from tqdm import tqdm\n",
    "# from progress.bar import IncrementalBar\n",
    "\n",
    "# from data_generator.object_detection_2d_data_generator import DataGenerator\n",
    "# import xml.etree.ElementTree as ET"
   ]
  },
  {
   "cell_type": "code",
   "execution_count": 27,
   "id": "9c87cc9a",
   "metadata": {},
   "outputs": [],
   "source": [
    "warnings.filterwarnings('ignore')\n",
    "\n",
    "#входное разрешение модели\n",
    "IMAGE_HEIGHT = 28 # Height of the input images\n",
    "IMAGE_WIDTH = 28 #Width of the input images\n",
    "WORK_DIR = 'D:\\work\\\\test_comp_vision\\datasets\\!_lines_w25_parsed_full' #путь к папке с файлами\n",
    "DATASET_H5 = 'D:\\work\\\\test_comp_vision\\datasets\\!_lines_w25_dataset.h5'\n",
    "DATASET_IDX_IMG = r'D:\\work\\test_comp_vision\\datasets\\!_lines_w25_dataset_images_150k.idx'\n",
    "DATASET_IDX_CLS = r'D:\\work\\test_comp_vision\\datasets\\!_lines_w25_dataset_classes_150k.idx'\n",
    "DATASET_SIZE = 100000      # какую часть изображений используем для создания датасета\n",
    "LABELS = '0123456789АБВГДЕЁЖЗИЙКЛМНОПРСТУФХЦЧШЩЪЫЬЭЮЯабвгдеёжзийклмнопрстуфхцчшщъыьэюя'\n",
    "EXPORT_NAME_CSV = '!img_classes.csv'"
   ]
  },
  {
   "cell_type": "code",
   "execution_count": 10,
   "id": "641a0526",
   "metadata": {},
   "outputs": [],
   "source": [
    "\"\"\"\n",
    "Структура папок:\n",
    "base_folder\n",
    "    image_0\n",
    "        image_0_0.jpg\n",
    "        image_0_0.txt\n",
    "        image_0_1.jpg\n",
    "        image_0_1.txt\n",
    "        ...\n",
    "    image_1\n",
    "        image_1_0.jpg\n",
    "        image_1_0.txt\n",
    "        image_1_1.jpg\n",
    "        image_1_1.txt\n",
    "        ...\n",
    "        \n",
    "\"\"\"\n",
    "# TODO заменить работу с индексами над путями к файлам на нормальную обработку разрешения файлов\n",
    "def get_dataframe(path):\n",
    "    # pattern = r'/^(.+)(\\.[^ .]+)?$/'      # для удаления разрешения из пути к файлу\n",
    "    \n",
    "    symbol_classes = []\n",
    "    for folder in os.listdir(path):\n",
    "        # TODO добавить ограничение на количество итераций здесь, чтобы не создавать DataSet больше нужного\n",
    "        for img_file in glob.glob(f'{path}/{folder}/*.jpg'):\n",
    "            txt_file =  f\"{img_file[:-3]}txt\"    # меняем разрешение для открытия текста [:-3]\n",
    "            # print(f'IMG_file: {img_file}\\nTXT_file: {txt_file}')\n",
    "            with open(txt_file, 'r') as f:\n",
    "                symbol_class = f.read()\n",
    "                \n",
    "            value = (img_file.replace('\\\\', '/'), symbol_class)  # меняем системный флеш Винды на тот, что понимает Python\n",
    "            symbol_classes.append(value)\n",
    "    column_names = ['file_name', 'class']\n",
    "    return pd.DataFrame(symbol_classes, columns=column_names)"
   ]
  },
  {
   "cell_type": "code",
   "execution_count": 28,
   "id": "f9fe911a",
   "metadata": {},
   "outputs": [
    {
     "data": {
      "text/html": [
       "<div>\n",
       "<style scoped>\n",
       "    .dataframe tbody tr th:only-of-type {\n",
       "        vertical-align: middle;\n",
       "    }\n",
       "\n",
       "    .dataframe tbody tr th {\n",
       "        vertical-align: top;\n",
       "    }\n",
       "\n",
       "    .dataframe thead th {\n",
       "        text-align: right;\n",
       "    }\n",
       "</style>\n",
       "<table border=\"1\" class=\"dataframe\">\n",
       "  <thead>\n",
       "    <tr style=\"text-align: right;\">\n",
       "      <th></th>\n",
       "      <th>file_name</th>\n",
       "      <th>class</th>\n",
       "    </tr>\n",
       "  </thead>\n",
       "  <tbody>\n",
       "    <tr>\n",
       "      <th>0</th>\n",
       "      <td>D:/work/test_comp_vision/datasets/!_lines_w25_...</td>\n",
       "      <td>в</td>\n",
       "    </tr>\n",
       "    <tr>\n",
       "      <th>1</th>\n",
       "      <td>D:/work/test_comp_vision/datasets/!_lines_w25_...</td>\n",
       "      <td>е</td>\n",
       "    </tr>\n",
       "    <tr>\n",
       "      <th>2</th>\n",
       "      <td>D:/work/test_comp_vision/datasets/!_lines_w25_...</td>\n",
       "      <td>е</td>\n",
       "    </tr>\n",
       "    <tr>\n",
       "      <th>3</th>\n",
       "      <td>D:/work/test_comp_vision/datasets/!_lines_w25_...</td>\n",
       "      <td>р</td>\n",
       "    </tr>\n",
       "    <tr>\n",
       "      <th>4</th>\n",
       "      <td>D:/work/test_comp_vision/datasets/!_lines_w25_...</td>\n",
       "      <td>а</td>\n",
       "    </tr>\n",
       "    <tr>\n",
       "      <th>...</th>\n",
       "      <td>...</td>\n",
       "      <td>...</td>\n",
       "    </tr>\n",
       "    <tr>\n",
       "      <th>99995</th>\n",
       "      <td>D:/work/test_comp_vision/datasets/!_lines_w25_...</td>\n",
       "      <td>С</td>\n",
       "    </tr>\n",
       "    <tr>\n",
       "      <th>99996</th>\n",
       "      <td>D:/work/test_comp_vision/datasets/!_lines_w25_...</td>\n",
       "      <td>Т</td>\n",
       "    </tr>\n",
       "    <tr>\n",
       "      <th>99997</th>\n",
       "      <td>D:/work/test_comp_vision/datasets/!_lines_w25_...</td>\n",
       "      <td>Р</td>\n",
       "    </tr>\n",
       "    <tr>\n",
       "      <th>99998</th>\n",
       "      <td>D:/work/test_comp_vision/datasets/!_lines_w25_...</td>\n",
       "      <td>О</td>\n",
       "    </tr>\n",
       "    <tr>\n",
       "      <th>99999</th>\n",
       "      <td>D:/work/test_comp_vision/datasets/!_lines_w25_...</td>\n",
       "      <td>Б</td>\n",
       "    </tr>\n",
       "  </tbody>\n",
       "</table>\n",
       "<p>100000 rows × 2 columns</p>\n",
       "</div>"
      ],
      "text/plain": [
       "                                               file_name class\n",
       "0      D:/work/test_comp_vision/datasets/!_lines_w25_...     в\n",
       "1      D:/work/test_comp_vision/datasets/!_lines_w25_...     е\n",
       "2      D:/work/test_comp_vision/datasets/!_lines_w25_...     е\n",
       "3      D:/work/test_comp_vision/datasets/!_lines_w25_...     р\n",
       "4      D:/work/test_comp_vision/datasets/!_lines_w25_...     а\n",
       "...                                                  ...   ...\n",
       "99995  D:/work/test_comp_vision/datasets/!_lines_w25_...     С\n",
       "99996  D:/work/test_comp_vision/datasets/!_lines_w25_...     Т\n",
       "99997  D:/work/test_comp_vision/datasets/!_lines_w25_...     Р\n",
       "99998  D:/work/test_comp_vision/datasets/!_lines_w25_...     О\n",
       "99999  D:/work/test_comp_vision/datasets/!_lines_w25_...     Б\n",
       "\n",
       "[100000 rows x 2 columns]"
      ]
     },
     "execution_count": 28,
     "metadata": {},
     "output_type": "execute_result"
    }
   ],
   "source": [
    "#Создаем DataFrame в котором хранится путь к фалу/изображению и его класс\n",
    "base_path = WORK_DIR #путь к основной папке\n",
    "df_text = pd.DataFrame()\n",
    "\n",
    "if DATASET_SIZE > 0:\n",
    "    df_text = df_text.append(get_dataframe(base_path)[:DATASET_SIZE])\n",
    "else:\n",
    "    df_text = df_text.append(get_dataframe(base_path))\n",
    "df_text"
   ]
  },
  {
   "cell_type": "code",
   "execution_count": 29,
   "id": "18d43ddc",
   "metadata": {},
   "outputs": [
    {
     "name": "stdout",
     "output_type": "stream",
     "text": [
      "{'0': 0, '1': 1, '2': 2, '3': 3, '4': 4, '5': 5, '6': 6, '7': 7, '8': 8, '9': 9, 'А': 10, 'Б': 11, 'В': 12, 'Г': 13, 'Д': 14, 'Е': 15, 'Ё': 16, 'Ж': 17, 'З': 18, 'И': 19, 'Й': 20, 'К': 21, 'Л': 22, 'М': 23, 'Н': 24, 'О': 25, 'П': 26, 'Р': 27, 'С': 28, 'Т': 29, 'У': 30, 'Ф': 31, 'Х': 32, 'Ц': 33, 'Ч': 34, 'Ш': 35, 'Щ': 36, 'Ъ': 37, 'Ы': 38, 'Ь': 39, 'Э': 40, 'Ю': 41, 'Я': 42, 'а': 43, 'б': 44, 'в': 45, 'г': 46, 'д': 47, 'е': 48, 'ё': 49, 'ж': 50, 'з': 51, 'и': 52, 'й': 53, 'к': 54, 'л': 55, 'м': 56, 'н': 57, 'о': 58, 'п': 59, 'р': 60, 'с': 61, 'т': 62, 'у': 63, 'ф': 64, 'х': 65, 'ц': 66, 'ч': 67, 'ш': 68, 'щ': 69, 'ъ': 70, 'ы': 71, 'ь': 72, 'э': 73, 'ю': 74, 'я': 75}\n"
     ]
    },
    {
     "data": {
      "text/html": [
       "<div>\n",
       "<style scoped>\n",
       "    .dataframe tbody tr th:only-of-type {\n",
       "        vertical-align: middle;\n",
       "    }\n",
       "\n",
       "    .dataframe tbody tr th {\n",
       "        vertical-align: top;\n",
       "    }\n",
       "\n",
       "    .dataframe thead th {\n",
       "        text-align: right;\n",
       "    }\n",
       "</style>\n",
       "<table border=\"1\" class=\"dataframe\">\n",
       "  <thead>\n",
       "    <tr style=\"text-align: right;\">\n",
       "      <th></th>\n",
       "      <th>image_path</th>\n",
       "      <th>class_id</th>\n",
       "    </tr>\n",
       "  </thead>\n",
       "  <tbody>\n",
       "    <tr>\n",
       "      <th>0</th>\n",
       "      <td>D:/work/test_comp_vision/datasets/!_lines_w25_...</td>\n",
       "      <td>45</td>\n",
       "    </tr>\n",
       "    <tr>\n",
       "      <th>1</th>\n",
       "      <td>D:/work/test_comp_vision/datasets/!_lines_w25_...</td>\n",
       "      <td>48</td>\n",
       "    </tr>\n",
       "    <tr>\n",
       "      <th>2</th>\n",
       "      <td>D:/work/test_comp_vision/datasets/!_lines_w25_...</td>\n",
       "      <td>48</td>\n",
       "    </tr>\n",
       "    <tr>\n",
       "      <th>3</th>\n",
       "      <td>D:/work/test_comp_vision/datasets/!_lines_w25_...</td>\n",
       "      <td>60</td>\n",
       "    </tr>\n",
       "    <tr>\n",
       "      <th>4</th>\n",
       "      <td>D:/work/test_comp_vision/datasets/!_lines_w25_...</td>\n",
       "      <td>43</td>\n",
       "    </tr>\n",
       "    <tr>\n",
       "      <th>...</th>\n",
       "      <td>...</td>\n",
       "      <td>...</td>\n",
       "    </tr>\n",
       "    <tr>\n",
       "      <th>99995</th>\n",
       "      <td>D:/work/test_comp_vision/datasets/!_lines_w25_...</td>\n",
       "      <td>28</td>\n",
       "    </tr>\n",
       "    <tr>\n",
       "      <th>99996</th>\n",
       "      <td>D:/work/test_comp_vision/datasets/!_lines_w25_...</td>\n",
       "      <td>29</td>\n",
       "    </tr>\n",
       "    <tr>\n",
       "      <th>99997</th>\n",
       "      <td>D:/work/test_comp_vision/datasets/!_lines_w25_...</td>\n",
       "      <td>27</td>\n",
       "    </tr>\n",
       "    <tr>\n",
       "      <th>99998</th>\n",
       "      <td>D:/work/test_comp_vision/datasets/!_lines_w25_...</td>\n",
       "      <td>25</td>\n",
       "    </tr>\n",
       "    <tr>\n",
       "      <th>99999</th>\n",
       "      <td>D:/work/test_comp_vision/datasets/!_lines_w25_...</td>\n",
       "      <td>11</td>\n",
       "    </tr>\n",
       "  </tbody>\n",
       "</table>\n",
       "<p>100000 rows × 2 columns</p>\n",
       "</div>"
      ],
      "text/plain": [
       "                                              image_path  class_id\n",
       "0      D:/work/test_comp_vision/datasets/!_lines_w25_...        45\n",
       "1      D:/work/test_comp_vision/datasets/!_lines_w25_...        48\n",
       "2      D:/work/test_comp_vision/datasets/!_lines_w25_...        48\n",
       "3      D:/work/test_comp_vision/datasets/!_lines_w25_...        60\n",
       "4      D:/work/test_comp_vision/datasets/!_lines_w25_...        43\n",
       "...                                                  ...       ...\n",
       "99995  D:/work/test_comp_vision/datasets/!_lines_w25_...        28\n",
       "99996  D:/work/test_comp_vision/datasets/!_lines_w25_...        29\n",
       "99997  D:/work/test_comp_vision/datasets/!_lines_w25_...        27\n",
       "99998  D:/work/test_comp_vision/datasets/!_lines_w25_...        25\n",
       "99999  D:/work/test_comp_vision/datasets/!_lines_w25_...        11\n",
       "\n",
       "[100000 rows x 2 columns]"
      ]
     },
     "execution_count": 29,
     "metadata": {},
     "output_type": "execute_result"
    }
   ],
   "source": [
    "# Преобразуем классы к числовым значениям и меняем формат в ссылках на unix-like (иначе PIL не может открыть файл)\n",
    "labels_to_int = {}\n",
    "for i, label in enumerate(LABELS):\n",
    "    labels_to_int[label] = i\n",
    "print(labels_to_int)\n",
    "\n",
    "df_images = pd.DataFrame({'image_path':df_text['file_name'],\n",
    "                   'class_id':[labels_to_int[label] for label in df_text['class']]})\n",
    "# df_images.to_csv(EXPORT_NAME_CSV, index=False)\n",
    "df_images"
   ]
  },
  {
   "cell_type": "markdown",
   "id": "cec827d0",
   "metadata": {},
   "source": [
    "## .H5 файл генератор (не используем, т.к. проще было пристроить .IDX)"
   ]
  },
  {
   "cell_type": "code",
   "execution_count": 1,
   "id": "fcc48332",
   "metadata": {},
   "outputs": [],
   "source": [
    "#Создаем файл датасета для обучения детектора\n",
    "#train_dataset = DataGenerator(load_images_into_memory=False, hdf5_dataset_path=None)\n",
    "#images_dir = ''\n",
    "\n",
    "#train_labels_filename = EXPORT_NAME_CSV\n",
    "\n",
    "#train_dataset.parse_csv(images_dir=images_dir,\n",
    "#                        labels_filename=train_labels_filename,\n",
    "#                        input_format=['image_name', 'xmin', 'xmax', 'ymin', 'ymax', 'class_id'], # This is the order of the first six columns in the CSV file that contains the labels for your dataset. If your labels are in XML format, maybe the XML parser will be helpful, check the documentation.\n",
    "#                        #input_format=['image_name', 'class_id'],\n",
    "#                        include_classes='all')\n",
    "\n",
    "#train_dataset.create_hdf5_dataset(file_path=DATASET_H5,\n",
    "#                                  resize=[IMAGE_HEIGHT, IMAGE_WIDTH],\n",
    "#                                  variable_image_size=True,\n",
    "#                                  verbose=True)"
   ]
  },
  {
   "cell_type": "code",
   "execution_count": 30,
   "id": "059595b5",
   "metadata": {},
   "outputs": [
    {
     "name": "stdout",
     "output_type": "stream",
     "text": [
      "(100000, 2)\n",
      "45\n",
      "48\n",
      "48\n",
      "60\n",
      "43\n"
     ]
    }
   ],
   "source": [
    "print(df_images.shape)\n",
    "for i, row in df_images[:5].iterrows():  \n",
    "    print(row['class_id'])"
   ]
  },
  {
   "cell_type": "markdown",
   "id": "2ffda75e",
   "metadata": {},
   "source": [
    "## .IDX файл генератор"
   ]
  },
  {
   "cell_type": "code",
   "execution_count": 12,
   "id": "0e944056",
   "metadata": {},
   "outputs": [
    {
     "name": "stdout",
     "output_type": "stream",
     "text": [
      "(28, 28)\n",
      "(28, 28)\n",
      "(1, 28, 28)\n"
     ]
    }
   ],
   "source": [
    "with Image.open(r\"D:\\work\\test_comp_vision\\test_for_MindSet\\pass_temp\\0\\0\\0-0.jpg\") as image:\n",
    "        print(image.size)\n",
    "        parsed_image = np.asarray(image)\n",
    "        print(parsed_image.shape)\n",
    "        parsed_image2 = np.asarray([parsed_image])\n",
    "        print(parsed_image2.shape)\n",
    "        "
   ]
  },
  {
   "cell_type": "code",
   "execution_count": 31,
   "id": "d05bc9f1",
   "metadata": {},
   "outputs": [
    {
     "name": "stdout",
     "output_type": "stream",
     "text": [
      "Общее количество: 100000\n"
     ]
    },
    {
     "name": "stderr",
     "output_type": "stream",
     "text": [
      "100000it [04:46, 349.59it/s]\n"
     ]
    },
    {
     "name": "stdout",
     "output_type": "stream",
     "text": [
      "Датасет изображений к сохранению: (100000, 28, 28)\n",
      "Датасет классов к сохранению: (100000,)\n"
     ]
    }
   ],
   "source": [
    "# преобразуем все изображения в массив np.array()\n",
    "\n",
    "parsed_images = []              # создаем два файла: в одном хранятся изображения в формате np.array\n",
    "parsed_classes = []             # во втором хранятся классы\n",
    "print(f\"Общее количество: {df_images.shape[0]}\")\n",
    "\n",
    "for i, row in tqdm(df_images.iterrows()):\n",
    "    \n",
    "    with Image.open(row['image_path']) as image:\n",
    "        parsed_images.append(np.asarray(image))  #открываем картинку по ссылке, преобразуем в массив\n",
    "    #print(parsed_images[row[0]].shape)\n",
    "    \n",
    "    parsed_classes.append(row['class_id'])\n",
    "    #print(parsed_classes[row[0]])\n",
    "\n",
    "np_images = np.asarray(parsed_images) \n",
    "np_classes = np.asarray(parsed_classes)\n",
    "\n",
    "print(f\"Датасет изображений к сохранению: {np_images.shape}\")\n",
    "print(f\"Датасет классов к сохранению: {np_classes.shape}\")\n",
    "\n",
    "idx.convert_to_file(DATASET_IDX_IMG, np_images)\n",
    "idx.convert_to_file(DATASET_IDX_CLS, np_classes)\n",
    "\n",
    "\n"
   ]
  },
  {
   "cell_type": "code",
   "execution_count": 32,
   "id": "a3bb1a2d",
   "metadata": {},
   "outputs": [
    {
     "name": "stdout",
     "output_type": "stream",
     "text": [
      "Датасет изображений из файла: (100000, 28, 28)\n",
      "Датасет классов из файла: (100000,)\n"
     ]
    }
   ],
   "source": [
    "images = idx.convert_from_file(DATASET_IDX_IMG)\n",
    "classes = idx.convert_from_file(DATASET_IDX_CLS)\n",
    "\n",
    "print(f\"Датасет изображений из файла: {images.shape}\")\n",
    "print(f\"Датасет классов из файла: {classes.shape}\")"
   ]
  },
  {
   "cell_type": "code",
   "execution_count": 33,
   "id": "0925ad3f",
   "metadata": {},
   "outputs": [
    {
     "name": "stdout",
     "output_type": "stream",
     "text": [
      "Датасет классов из файла: (697932,)\n"
     ]
    }
   ],
   "source": [
    "#images = idx.convert_from_file(DATASET_IDX_IMG)\n",
    "classes = idx.convert_from_file(r\"D:\\work\\test_comp_vision\\datasets\\emnist_gzip\\emnist-byclass-train-labels-idx1-ubyte\")\n",
    "\n",
    "#print(f\"Датасет изображений из файла: {images.shape}\")\n",
    "print(f\"Датасет классов из файла: {classes.shape}\")"
   ]
  }
 ],
 "metadata": {
  "kernelspec": {
   "display_name": "Python 3 (ipykernel)",
   "language": "python",
   "name": "python3"
  },
  "language_info": {
   "codemirror_mode": {
    "name": "ipython",
    "version": 3
   },
   "file_extension": ".py",
   "mimetype": "text/x-python",
   "name": "python",
   "nbconvert_exporter": "python",
   "pygments_lexer": "ipython3",
   "version": "3.10.4"
  }
 },
 "nbformat": 4,
 "nbformat_minor": 5
}
