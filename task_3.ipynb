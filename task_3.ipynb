{
 "cells": [
  {
   "cell_type": "code",
   "execution_count": null,
   "id": "e91dd470",
   "metadata": {},
   "outputs": [],
   "source": []
  },
  {
   "cell_type": "code",
   "execution_count": 71,
   "id": "dc6f1029",
   "metadata": {},
   "outputs": [],
   "source": [
    "import cv2\n",
    "import numpy as np\n",
    "import os\n",
    "from matplotlib import pyplot as plt       # чтобы выводить промежуточные фото в jupyter\n",
    "\n",
    "# Список всех настроечных параметров/констант\n",
    "WORK_DIR = 'pass_photos'\n",
    "TEST_FILE = 'pass_photos/1.jpeg'\n",
    "IMG_HEIGHT = 1000            # требуемый размер фото для нормализации всех изображений\n",
    "IMG_WIDTH = 600              # т.к. в задачу входит прочитать только ФИО, обрезаю серию/номер чтобы не усложнять распознавание\n",
    "INDENT_LEFT = 200            # обрезаем фото\n",
    "INDENT_BOTTOM = 200           # обрезаем нижние поля\n",
    "INDENT_TOP = 40"
   ]
  },
  {
   "cell_type": "code",
   "execution_count": 72,
   "id": "6eb30b7d",
   "metadata": {},
   "outputs": [],
   "source": [
    "# Функция для получения списка файлов из каталога с фотографиями (как в task_1 и task_2)\n",
    "def get_files(directory: str) -> list:\n",
    "    names = []\n",
    "    for filename in os.listdir(directory):\n",
    "        if filename.endswith(\".jpeg\") or filename.endswith(\".jpg\") or filename.endswith(\".png\"):\n",
    "            names.append(os.path.join(directory, filename))\n",
    "\n",
    "    return names"
   ]
  },
  {
   "cell_type": "code",
   "execution_count": 73,
   "id": "c504ee80",
   "metadata": {},
   "outputs": [],
   "source": [
    "# Подготовка изображений для распознавания текста\n",
    "def normalize_image(image: str):    \n",
    "    img = cv2.imread(image)\n",
    "    \n",
    "    # нормализуем фото к нужному размеру\n",
    "    height, width, channels = img.shape\n",
    "    resize_scale = IMG_HEIGHT / height       # получаем коэффициент масштабирования изображения\n",
    "    img_width = int(width * resize_scale)    # высчитываем от этого коэффициента новую ширину\n",
    "    img = cv2.resize(img, (img_width, IMG_HEIGHT))\n",
    "    \n",
    "    # обрезаем паспорт до страницы с фото\n",
    "    x0 = INDENT_LEFT                            # отступ слева, т.к. корочка и фото нам не важны\n",
    "    y0 = IMG_HEIGHT // 2 + INDENT_TOP           # обрезка сверху, т.к. верхняя страница с местом выдачи нам не важна \n",
    "    x1 = img_width if img_width < IMG_WIDTH else IMG_WIDTH     # обрезаем все лишнее справа, если есть разворот с пропиской\n",
    "    y1 = IMG_HEIGHT - INDENT_BOTTOM\n",
    "    img = img[y0:y1, x0:x1]\n",
    "    \n",
    "    # обесцвечиваем и пытаемся снизить шум с помощью размытия\n",
    "    img = cv2.cvtColor(img, cv2.COLOR_BGR2GRAY)    # преобразуем в ЧБ\n",
    "    img = cv2.GaussianBlur(img, (5,5), 0)         # коэффициент размытия подобран вручную\n",
    "    \n",
    "    \n",
    "    # одно изображение используем для распознавания блоков текста. очередность преобраозвания найдена методом тыка\n",
    "    kernel = np.ones((5,5), 'uint8')\n",
    "    # kernel = cv2.getStructuringElement(cv2.MORPH_RECT, (3,3))\n",
    "    img_block = cv2.erode(img, kernel, iterations=1)\n",
    "    #img_block = cv2.dilate(img_block, kernel, iterations=1)\n",
    "    _, img_block = cv2.threshold(img_block, 0, 255, cv2.THRESH_OTSU, cv2.THRESH_BINARY_INV)\n",
    "    img_block = cv2.morphologyEx(img_block, cv2.MORPH_OPEN, kernel, iterations=1)\n",
    "    # img = cv2.morphologyEx(img, cv2.MORPH_CLOSE, kernel)\n",
    "    \n",
    "    # второе изображение используем для распознавания букв внутри блоков\n",
    "    # при коэффициенте 3 - лучше распознается Васлевский, при 5 - Соколов и Юмакаева\n",
    "    img_symbol = cv2.adaptiveThreshold(img, 255, cv2.ADAPTIVE_THRESH_GAUSSIAN_C, cv2.THRESH_BINARY, 5, 2)\n",
    "    \n",
    "\n",
    "    return img_block, img_symbol"
   ]
  },
  {
   "cell_type": "code",
   "execution_count": 74,
   "id": "f6fd772a",
   "metadata": {},
   "outputs": [],
   "source": [
    "# Выделяем элементы текста из изображения\n",
    "def search_text(blocks, symbols):\n",
    "    # получаем контуры пятен на изображении\n",
    "    contours, hierarchy = cv2.findContours(blocks, cv2.RETR_TREE, cv2.CHAIN_APPROX_NONE)\n",
    "    # contours, hierarchy = cv2.findContours(image, cv2.RETR_EXTERNAL, cv2.CHAIN_APPROX_NONE)\n",
    "\n",
    "    output = blocks.copy()\n",
    "    \n",
    "    print(f'Count of counotus: {len(contours)}')\n",
    "    for idx, contour in enumerate(contours):\n",
    "        (x, y, w, h) = cv2.boundingRect(contour)\n",
    "        # print(\"R\", idx, x, y, w, h, cv2.contourArea(contour), hierarchy[0][idx])\n",
    "        # hierarchy[i][0]: следующий контур текущего уровня\n",
    "        # hierarchy[i][1]: предыдущий контур текущего уровня\n",
    "        # hierarchy[i][2]: первый вложенный элемент\n",
    "        # hierarchy[i][3]: родительский элемент\n",
    "        if hierarchy[0][idx][3] == 0:\n",
    "            cv2.rectangle(output, (x, y), (x + w, y + h), (70, 0, 0), 1)\n",
    "    #cv2.imshow(\"Input\", image)\n",
    "    cv2.imshow(\"Output\", output)\n",
    "    cv2.waitKey(0)"
   ]
  },
  {
   "cell_type": "code",
   "execution_count": 75,
   "id": "23503b81",
   "metadata": {},
   "outputs": [
    {
     "name": "stdout",
     "output_type": "stream",
     "text": [
      "==== Image 0.jpg =====\n",
      "Count of counotus: 18\n",
      "==== Image 1.jpg =====\n",
      "Count of counotus: 16\n",
      "==== Image 2.jpg =====\n",
      "Count of counotus: 16\n",
      "==== Image 3.jpg =====\n",
      "Count of counotus: 16\n",
      "==== Image 4.jpg =====\n",
      "Count of counotus: 23\n",
      "==== Image 5.jpg =====\n",
      "Count of counotus: 17\n",
      "==== Image 6.jpg =====\n",
      "Count of counotus: 17\n",
      "==== Image 7.jpg =====\n",
      "Count of counotus: 18\n",
      "==== Image 8.jpg =====\n",
      "Count of counotus: 17\n",
      "==== Image 9.jpg =====\n",
      "Count of counotus: 15\n"
     ]
    }
   ],
   "source": [
    "# Запускаем цикл по всем фото в рабочей папке\n",
    "passports = get_files(WORK_DIR)\n",
    "# col = 5    # количество колонок таблицы\n",
    "for i, p in enumerate(passports):\n",
    "    print(f'==== Image {i}.jpg =====')\n",
    "    blocks, symbols = normalize_image(p)\n",
    "    cv2.imwrite(f'pass_temp/{i}_blocs.jpg', blocks)\n",
    "    cv2.imwrite(f'pass_temp/{i}_symbols.jpg', symbols)\n",
    "    search_text(blocks, symbols)\n",
    "    \n",
    "    \n",
    "    \n",
    "    \n",
    "    #plt.subplot(len(passports)//col+1, col, i+1)    # высчитываем высоту таблицы от количества колонок и общего размера списка\n",
    "    #plt.imshow(image, 'gray')\n",
    "    # plt.title(p)\n",
    "    #plt.xticks([]),plt.yticks([])\n",
    "#plt.show()"
   ]
  },
  {
   "cell_type": "code",
   "execution_count": null,
   "id": "c29ba448",
   "metadata": {},
   "outputs": [],
   "source": []
  }
 ],
 "metadata": {
  "kernelspec": {
   "display_name": "Python 3 (ipykernel)",
   "language": "python",
   "name": "python3"
  },
  "language_info": {
   "codemirror_mode": {
    "name": "ipython",
    "version": 3
   },
   "file_extension": ".py",
   "mimetype": "text/x-python",
   "name": "python",
   "nbconvert_exporter": "python",
   "pygments_lexer": "ipython3",
   "version": "3.10.4"
  }
 },
 "nbformat": 4,
 "nbformat_minor": 5
}
