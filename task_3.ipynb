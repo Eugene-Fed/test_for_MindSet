{
 "cells": [
  {
   "cell_type": "code",
   "execution_count": null,
   "id": "e91dd470",
   "metadata": {},
   "outputs": [],
   "source": []
  },
  {
   "cell_type": "code",
   "execution_count": 1,
   "id": "dc6f1029",
   "metadata": {},
   "outputs": [],
   "source": [
    "import cv2\n",
    "import numpy as np\n",
    "\n",
    "# Список всех настроечных параметров/констант\n",
    "WORK_DIR = 'pass_photos'\n",
    "TEST_FILE = 'pass_photos/test.png'\n",
    "TEST_FILE = 'pass_photos/0.jpeg'"
   ]
  },
  {
   "cell_type": "code",
   "execution_count": 2,
   "id": "6eb30b7d",
   "metadata": {},
   "outputs": [],
   "source": [
    "# Функция для получения списка файлов из каталога с фотографиями (как в task_1 и task_2)\n",
    "def get_files(directory: str) -> list:\n",
    "    names = []\n",
    "    for filename in os.listdir(directory):\n",
    "        if filename.endswith(\".jpeg\") or filename.endswith(\".jpg\") or filename.endswith(\".png\"):\n",
    "            names.append(os.path.join(directory, filename))\n",
    "\n",
    "    return names"
   ]
  },
  {
   "cell_type": "code",
   "execution_count": 5,
   "id": "b00270cd",
   "metadata": {},
   "outputs": [],
   "source": [
    "def search_chars(image: str):    \n",
    "    img = cv2.imread(image)\n",
    "    gray = cv2.cvtColor(img, cv2.COLOR_BGR2GRAY)    # преобразуем в ЧБ\n",
    "    blur = cv2.GaussianBlur(gray, (3,3), 0)\n",
    "    # ret, thresh = cv2.threshold(gray, 0, 255, cv2.THRESH_BINARY)\n",
    "    thresh = cv2.adaptiveThreshold(gray, 255, cv2.ADAPTIVE_THRESH_GAUSSIAN_C, cv2.THRESH_BINARY, 11, 2)\n",
    "    # img_erode = cv2.erode(thresh, np.ones((3, 3), np.uint8), iterations=1)    # слегка увеличиваем изображение\n",
    "\n",
    "    # Morph open to remove noise and invert image\n",
    "    #kernel = cv2.getStructuringElement(cv2.MORPH_RECT, (3,3))\n",
    "    #opening = cv2.morphologyEx(thresh, cv2.MORPH_OPEN, kernel, iterations=1)\n",
    "    #invert = 255 - opening\n",
    "    \n",
    "    # получаем контуры\n",
    "    contours, hierarchy = cv2.findContours(thresh, cv2.RETR_TREE, cv2.CHAIN_APPROX_NONE)\n",
    "\n",
    "    output = img.copy()\n",
    "\n",
    "    #for idx, contour in enumerate(contours):\n",
    "    #    (x, y, w, h) = cv2.boundingRect(contour)\n",
    "        # print(\"R\", idx, x, y, w, h, cv2.contourArea(contour), hierarchy[0][idx])\n",
    "        # hierarchy[i][0]: следующий контур текущего уровня\n",
    "        # hierarchy[i][1]: предыдущий контур текущего уровня\n",
    "        # hierarchy[i][2]: первый вложенный элемент\n",
    "        # hierarchy[i][3]: родительский элемент\n",
    "    #    if hierarchy[0][idx][3] == 0:\n",
    "    #        cv2.rectangle(output, (x, y), (x + w, y + h), (70, 0, 0), 1)\n",
    "\n",
    "\n",
    "    cv2.imshow(\"Input\", img)\n",
    "    # cv2.imshow(\"Enlarged\", img_erode)\n",
    "    # cv2.imshow(\"Output\", output)\n",
    "    cv2.imshow(\"Gray\", gray)\n",
    "    # cv2.imshow(\"Blur\", blur)\n",
    "    cv2.imshow(\"Trash\", thresh)\n",
    "    # cv2.imshow(\"Opening\", opening)\n",
    "    \n",
    "    cv2.waitKey(0)"
   ]
  },
  {
   "cell_type": "code",
   "execution_count": null,
   "id": "1bafd142",
   "metadata": {},
   "outputs": [],
   "source": []
  },
  {
   "cell_type": "code",
   "execution_count": 6,
   "id": "acaf635f",
   "metadata": {},
   "outputs": [],
   "source": [
    "search_chars(TEST_FILE)"
   ]
  },
  {
   "cell_type": "code",
   "execution_count": null,
   "id": "6af8e69d",
   "metadata": {},
   "outputs": [],
   "source": []
  }
 ],
 "metadata": {
  "kernelspec": {
   "display_name": "Python 3 (ipykernel)",
   "language": "python",
   "name": "python3"
  },
  "language_info": {
   "codemirror_mode": {
    "name": "ipython",
    "version": 3
   },
   "file_extension": ".py",
   "mimetype": "text/x-python",
   "name": "python",
   "nbconvert_exporter": "python",
   "pygments_lexer": "ipython3",
   "version": "3.10.4"
  }
 },
 "nbformat": 4,
 "nbformat_minor": 5
}
