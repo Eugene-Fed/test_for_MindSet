{
 "cells": [
  {
   "cell_type": "code",
   "execution_count": null,
   "id": "e91dd470",
   "metadata": {},
   "outputs": [],
   "source": []
  },
  {
   "cell_type": "code",
   "execution_count": 1,
   "id": "dc6f1029",
   "metadata": {},
   "outputs": [],
   "source": [
    "import cv2"
   ]
  },
  {
   "cell_type": "code",
   "execution_count": null,
   "id": "afe3470a",
   "metadata": {},
   "outputs": [],
   "source": [
    "# Список всех настроечных параметров/констант\n",
    "WORK_DIR = 'pass_photos'\n",
    "TEST_FILE = 'pass_photos/0.jpeg'"
   ]
  },
  {
   "cell_type": "code",
   "execution_count": null,
   "id": "6eb30b7d",
   "metadata": {},
   "outputs": [],
   "source": [
    "# Функция для получения списка файлов из каталога с фотографиями (как в task_1 и task_2)\n",
    "def get_files(directory: str) -> list:\n",
    "    names = []\n",
    "    for filename in os.listdir(directory):\n",
    "        if filename.endswith(\".jpeg\") or filename.endswith(\".jpg\") or filename.endswith(\".png\"):\n",
    "            names.append(os.path.join(directory, filename))\n",
    "\n",
    "    return names"
   ]
  }
 ],
 "metadata": {
  "kernelspec": {
   "display_name": "Python 3 (ipykernel)",
   "language": "python",
   "name": "python3"
  },
  "language_info": {
   "codemirror_mode": {
    "name": "ipython",
    "version": 3
   },
   "file_extension": ".py",
   "mimetype": "text/x-python",
   "name": "python",
   "nbconvert_exporter": "python",
   "pygments_lexer": "ipython3",
   "version": "3.10.4"
  }
 },
 "nbformat": 4,
 "nbformat_minor": 5
}
